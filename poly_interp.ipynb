{
 "cells": [
  {
   "cell_type": "markdown",
   "id": "d2c1d1f4",
   "metadata": {},
   "source": [
    "# 2. Interpolation\n",
    "\n",
    "## 2.1. Vandermonde trick\n",
    "\n"
   ]
  },
  {
   "cell_type": "markdown",
   "id": "97c3b03c",
   "metadata": {},
   "source": [
    "You have a function $f$ defined on the interval $[a, b]$, but only have access to $n + 1$ evaluations of the function at unique nodes $\\{x_0, x_1, x_2, \\ldots, x_n\\} := \\{x_i\\}_{i=n}^m$, where the function takes values $\\{ y_0, y_1, y_2, \\ldots, y_n \\} := \\{y_i\\}_{i=0}^n$. How do you evaluate the function at some new point $x^{\\ast}$?\n",
    "\n"
   ]
  },
  {
   "cell_type": "markdown",
   "id": "6c32a1ea",
   "metadata": {},
   "source": [
    "Try fitting an degree-$n$ polynomial through the points,\n",
    "$$ p(x) = \\sum_{k = 0}^{n}a_k x^k, $$\n",
    "so that the function evaluations become constraints\n",
    "\n",
    "\\begin{align}\n",
    "p(x_0) &= a_0 + a_1 x_0 + a_2 x_0^2 + \\ldots + a_n x_0^n = y_0,\\\\\n",
    "p(x_1) &= a_0 + a_1 x_1 + a_2 x_1^2 + \\ldots + a_n x_1^n = y_1,\\\\\n",
    "\\vdots &\\vphantom{=}\\\\\n",
    "p(x_n) &= a_0 + a_1 x_n + a_2 x_n^2 + \\ldots + a_n x_n^n = y_n.\n",
    "\\end{align}\n",
    "\n",
    "This can be rewritten rather compactly as\n",
    "\n",
    "\\begin{equation}\n",
    "\\begin{bmatrix}\n",
    "1 & x_0 & x_0^2 & \\ldots & x_0^n \\\\\n",
    "1 & x_1 & x_1^2 & \\ldots & x_1^n \\\\\n",
    "\\vdots & \\vdots & \\vdots & \\ddots & \\vdots \\\\\n",
    "1 & x_n & x_n^2 & \\ldots & x_n^n \n",
    "\\end{bmatrix}\n",
    "\\begin{bmatrix}\n",
    "a_0 \\\\ a_1 \\\\ \\vdots \\\\ a_n \n",
    "\\end{bmatrix}\n",
    "= \n",
    "\\begin{bmatrix}\n",
    "y_0 \\\\ y_1 \\\\ \\vdots \\\\ y_n \n",
    "\\end{bmatrix},\n",
    "\\end{equation}\n",
    "\n",
    "or simply $Ma = y$, where we collected the unknown coefficients into the vector $a$, the function evaluations into $y$, and $M(\\{x^{\\ast}_i\\}_{i=0}^n)$ is called the **Vandermonde matrix**.\n",
    "\n",
    "To evaluate $f$ at a new set of points $\\{x^{\\ast}_i\\}_{i=0}^m$, we can simply solve $Ma = y$ with a backwards-stable algorithm to get $a$, and then left-multiply it by a _new_ Vandermonde matrix $N(\\{x^{\\ast}_i\\}_{i=0}^m)$ (filled with the $\\{x^{\\ast}_i\\}_{i=0}^m$."
   ]
  },
  {
   "cell_type": "markdown",
   "id": "f77b1ffd",
   "metadata": {},
   "source": [
    "```{admonition} Algorithm\n",
    ":class: hint\n",
    "A backwards-stable and efficient way to interpolate using the Vandermonde trick is to build an $(m+1) \\times (n+1) $ interpolation matrix $L = NM^{-1}$ using the (scaled and centered) source $\\{x_i\\}_{i=0}^n$ and target $\\{x^{\\ast}_i\\}_{i=0}^m$ nodes:\n",
    "\n",
    "1. Fill up the $M$ and $N$ matrices column-by-column, using element-wise multiplication of entries with those of the previous column,\n",
    "2. Compute $L$ as $L = (\\text{solve}(M^{T}, N^T))^T$, or in MATLAB notation: `L = (M'\\N')'`.\n",
    "\n",
    "See, for example [this implementation](https://github.com/ahbarnett/BIE3D/blob/master/utils/interpmat_1d.m) of Helsing's algorithm by Alex Barnett.\n",
    "```"
   ]
  },
  {
   "cell_type": "markdown",
   "id": "5f2573e8",
   "metadata": {},
   "source": [
    "```{admonition} Question\n",
    "How can doing interpolation like this go wrong? (Hint: think back to the example at the end of the previous lecture.)\n",
    "```"
   ]
  },
  {
   "cell_type": "code",
   "execution_count": null,
   "id": "1d54e622",
   "metadata": {},
   "outputs": [],
   "source": []
  }
 ],
 "metadata": {
  "kernelspec": {
   "display_name": "Python 3 (ipykernel)",
   "language": "python",
   "name": "python3"
  },
  "language_info": {
   "codemirror_mode": {
    "name": "ipython",
    "version": 3
   },
   "file_extension": ".py",
   "mimetype": "text/x-python",
   "name": "python",
   "nbconvert_exporter": "python",
   "pygments_lexer": "ipython3",
   "version": "3.10.8"
  }
 },
 "nbformat": 4,
 "nbformat_minor": 5
}
