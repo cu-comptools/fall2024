{
 "cells": [
  {
   "cell_type": "markdown",
   "id": "cbad1449",
   "metadata": {},
   "source": [
    "# Homework 1 (due Friday 09/27)"
   ]
  },
  {
   "cell_type": "markdown",
   "id": "b1105c7f",
   "metadata": {},
   "source": [
    "The number in square brackets indicates the marks awarded for the question."
   ]
  },
  {
   "cell_type": "markdown",
   "id": "2a0a2c3d",
   "metadata": {},
   "source": [
    "### 1. Condition number [9]\n",
    "\n",
    "a) [3] Take the oscillatory function $f_{\\omega_0}(t) = e^{i\\omega_0\\int_{x_0}^{x} \\Omega(\\sigma)\\mathrm{d}\\sigma}$, whose frequency is expressed as $\\omega(x) = \\omega_0\\Omega(x)$. What is its _relative condition number_ in with respect to $x$, keeping all other quantities constant? What is the relative condition number of $f$ assuming we now only perturb the input parameter $\\omega_0$? What physical quantity associated with the oscillatory function does this latter condition number express?\n",
    "\n",
    "b) [2] If the relative condition number of the real-valued functions $f$ and $g$ are $\\kappa_f$ and $\\kappa_g$ respectively, show that for $h(x) = f(g(x))$, \n",
    "\n",
    "$$\\kappa_h(x) = \\kappa_f(g(x))\\kappa_g(x).$$\n",
    "\n",
    "c) [4] The polynomial $p(x) = a_0 + a_1x + \\ldots + a_nx^n$ has a root $x = r$. What is the (relative) condition number of the root $r$ with respect to perturbations in the coefficient $a_k$, keeping all other coefficients constant? Simplify your answer as much as possible. Deduce when root finding problems become ill-conditioned."
   ]
  },
  {
   "cell_type": "markdown",
   "id": "14fb188e",
   "metadata": {},
   "source": [
    "### 2. Stability [8]\n",
    "\n",
    "Consider the machine algorithm (that uses floating-point representation) for subtracting $1$ from a real number. You'll investigate whether it's stable and backwards stable.\n",
    "\n",
    "a) [2] The exact problem (a mapping $f: X \\mapsto Y$) is $ f(x) = 1 - x. $\n",
    "Write down in words the steps of the machine algorithm $\\tilde{f}$ that computes the difference. Express $\\tilde{f}(x)$ in terms of the input $x$.\n",
    "\n",
    "c) [1] What does $\\tilde{f}(x)$ have to equal, in terms of a floating-point number close to $x$ denoted $\\tilde{x},$ for the algorithm to be _backwards stable_?\n",
    "\n",
    "d) [2] By expressing $\\tilde{x}$ in terms of $x$ and some small relative roundoff error $\\varepsilon$ ($|\\varepsilon| \\leq \\mu_M$), eliminate $\\tilde{x}$ from the above result. To first order in small quantities, what does $\\varepsilon$ have to equal for backwards stability? Assuming $\\varepsilon$ satisfies this condition, how does it behave as all small quantities approach zero, and what does this mean for the backwards stability of the algorithm?\n",
    "\n",
    "f) [1] What is the condition for _stability_ in terms of $f$, $\\tilde{f}$, $x$, and $\\tilde{x}$? \n",
    "\n",
    "g) [2] Is this algorithm stable? Show your work. "
   ]
  },
  {
   "cell_type": "markdown",
   "id": "1aa10564",
   "metadata": {},
   "source": [
    "### 3. Interpolation [10]\n",
    "\n",
    "a) [6] Write code using the barycentric interpolation formula (you may use an external package for this, or you may write your own) to compute a sequence of polynomial interpolants to a function $f$ on $[−1, 1]$ in points selected by a _greedy_ algorithm: take $x_0$ to be a point where $|f(x)|$ achieves its maximum, then $x_1$ to be a point where $|(f − p_0)(x)|$ achieves its maximum, then $x_2$ to be a point where $|(f − p_1)(x)|$ achieves its maximum, and so on. Plot the error curves $(f − p_n)(x)$, $x \\in [−1, 1]$, computed by this algorithm for $f(x) = |x|$ and $0 \\leq n \\leq 25$. Comment on the spacing of the grid $\\{ x_0, x_1, \\ldots, x_{25} \\}$.\n",
    "\n",
    "b) [2] Make sure to write a _unit test_ for your interpolation routine, and put \"test\" in the function's name.\n",
    "\n",
    "c) [2] Write _docstrings_ for your functions documenting the types and any limitations on their input, their outputs, and what they do. \n",
    "\n",
    "(In code development, you should ideally do these steps in reverse, i.e. document what your functions do, then think of and implement some tests, then write the function itself!)\n"
   ]
  },
  {
   "cell_type": "markdown",
   "id": "aeb6af13",
   "metadata": {},
   "source": [
    "### 4. A rough practical estimate of the condition number (a bit of everything) [16]\n",
    "\n",
    "a) [3] Write code to solve the initial value problem\n",
    "\n",
    "\\begin{align}\n",
    "u'' + \\lambda^2q(t) u &= 0, \\quad t \\in [t_i, t_f] = [-1, 1],\\\\\n",
    "u(-1) &= 0,\\\\\n",
    "u'(-1) &= \\lambda,\n",
    "\\end{align}\n",
    "\n",
    "with $q(t) = 1 - t^2\\cos(3t)$, and $\\lambda = 100$. You are _encouraged_ to call external packages for the solution, but you may pick whatever method you like. Make sure your solver accepts an _absolute_ and _relative_ tolerance parameter, and is able to produce an estimate of the solution $u$ at a given set of $t$-values (see e.g. the `t_eval` argument of [`scipy.integrate.solve_ivp()`](https://docs.scipy.org/doc/scipy/reference/generated/scipy.integrate.solve_ivp.html)).\n",
    "\n",
    "b) [2] Perform a convergence test: plot the absolute difference in $u(1)$ as you lower the tolerance parameter (set the absolute and relative tolerances to be equal), using the answer you obtained at the lowest tolerance setting as reference. To how many digits do you trust the final (lowest tolerance setting) answer? \n",
    "\n",
    "c) [2] By perturbing the input parameter $t_f$ and inspecting the change in $u(t_f)$, compute an estimate of the relative condition number of the IVP with respect to this parameter. Use your answer to 1 a) to compute a theoretical estimate and compare the two. \n",
    "\n",
    "d) [9] Modify your previous code to solve\n",
    "\n",
    "\\begin{align} \n",
    "u' &= u^2 - t, \\quad t \\in [0, 5] \\\\ \n",
    "u(0) &= -\\tfrac{1}{2}.\n",
    "\\end{align}\n",
    "\n",
    "1. [1] Produce two solutions at tolerance settings of $10^{-8}$ and $10^{-10}$ (we'll call them $u_1(t)$ and $u_2(t)$, respectively). \n",
    "2. [4] By asking your code to produce $u$ at suitably selected values of $t$ and interpolating, write a function to give you an interpolated estimate of $u'(t)$. Estimate the error of your interpolated answer (and show your work)!\n",
    "3. [1] From this, compute the _residual_, $\\Delta(t) := u' - (u^2 - t)$ of both of your solutions. In terms of error analysis, what type of error does $|| \\Delta(t) ||_{L_\\infty} $ express? \n",
    "4. [2] Treating the $u_2(t)$ as your reference solution, what type of error is $|| u_1(t) - u_2(t) ||_{L_\\infty} $? \n",
    "5. [1] Using your answers to the previous two questions, give a crude estimate of the condition number of this problem, and compute it numerically."
   ]
  },
  {
   "cell_type": "code",
   "execution_count": null,
   "id": "a2d18b1a",
   "metadata": {},
   "outputs": [],
   "source": []
  }
 ],
 "metadata": {
  "kernelspec": {
   "display_name": "Python 3 (ipykernel)",
   "language": "python",
   "name": "python3"
  },
  "language_info": {
   "codemirror_mode": {
    "name": "ipython",
    "version": 3
   },
   "file_extension": ".py",
   "mimetype": "text/x-python",
   "name": "python",
   "nbconvert_exporter": "python",
   "pygments_lexer": "ipython3",
   "version": "3.10.8"
  }
 },
 "nbformat": 4,
 "nbformat_minor": 5
}
