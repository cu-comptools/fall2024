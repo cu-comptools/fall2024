{
 "cells": [
  {
   "cell_type": "markdown",
   "id": "4b5de236",
   "metadata": {},
   "source": [
    "# 1. Computation fundamentals\n",
    "\n",
    "There are several sources of errors in computation: \n",
    "\n",
    "- **roundoff**, a consequence of our digital representation of numbers,\n",
    "- **conditioning**, a property of the problem, and\n",
    "- **stability**, a property of the algorithm we use.\n",
    "\n",
    "```{admonition} Resource\n",
    "Trefethen and Bau's **Numerical Linear Algebra**, Chapters 12-14.\n",
    "```"
   ]
  },
  {
   "cell_type": "markdown",
   "id": "6cf7837c",
   "metadata": {},
   "source": [
    "## Floating-point arithmetic\n",
    "\n",
    "Computers work in terms of floating-point numbers instead of reals $\\mathbb{R}$. \n",
    "\n",
    "Let's say $\\circ$ is an operator that rounds the real number $x \\in \\mathbb{R}$ to the nearest floating-point number $\\hat{x}$:\n",
    "\n",
    "$$ \\hat{x} := \\circ x. $$\n",
    "\n",
    "The _absolute_ error induced by this representation is\n",
    "\n",
    "$$ \\Delta x = \\circ x - x = \\hat{x} - x, $$\n",
    "and the _relative_ error is\n",
    "\n",
    "$$ \\delta x = \\frac{\\Delta x}{x} = \\frac{\\hat{x} - x}{x}. $$\n",
    "We can rearrange this as\n",
    "\n",
    "$$ \\hat{x} = (1 + \\delta x)x. $$\n",
    "\n",
    "The IEEE (Institute of Electrical and Electronics Engineers) standard _guarantees_ that \n",
    "\n",
    "$$ |\\delta x| < \\mu_M = \\tfrac{1}{2}\\varepsilon_M, $$\n",
    "where $\\varepsilon_M$ is **machine precision**."
   ]
  },
  {
   "cell_type": "markdown",
   "id": "168b9c9c",
   "metadata": {},
   "source": [
    "```{admonition} Question\n",
    "Where does $\\varepsilon_M$ come from, and what is it in single and double precision arithmetic?\n",
    "```"
   ]
  },
  {
   "cell_type": "markdown",
   "id": "cdc8e28f",
   "metadata": {},
   "source": [
    "Numbers in floating-point arithmetic are represented as\n",
    "\n",
    "$$ \\pm (1 + f) \\cdot 2^n, $$ \n",
    "where $n$ is the **exponent** and $(1+f)$ is the **mantissa**. \n",
    "- $d$ is a constant called the binary _precision_.\n",
    "\n",
    "A fixed number of bits called the binary **precision**, denoted $d$, is then used to store $f$ in base 2:\n",
    "\n",
    "$$ f = \\sum_{i = 1}^d b_i 2^{-i}, \\quad b_i \\in \\{0, 1\\}. $$\n",
    "It's useful to pull out a constant $2^{-d}$ to get\n",
    "\n",
    "$$ f = 2^{-d}\\sum_{i = 1}^{d} b_i 2^{d - i} = 2^{-d}z, $$\n",
    "where $z$ is now an integer."
   ]
  },
  {
   "cell_type": "markdown",
   "id": "ff2bd430",
   "metadata": {},
   "source": [
    "```{admonition} Question\n",
    "What values can $z$ take? How many numbers are there between $2^n$ and $2^{n+1}$? What does that say about the relationship between $\\varepsilon_M$ and $d$?\n",
    "```"
   ]
  },
  {
   "cell_type": "markdown",
   "id": "e577702f",
   "metadata": {},
   "source": [
    "$z$ takes values in $ z \\in \\{0, 1, 2, \\ldots, 2^{d} - 1\\}$, therefore there are $2^d$ integers between two adjacent powers of $2$ in floating-point arithmetic. From this we can read off that\n",
    "\n",
    "$$ \\varepsilon_M = 2^{-d}. $$\n",
    "In single precision, $d = 23$ bits are used to represent the mantissa, therefore $\\varepsilon_M \\approx 2\\cdot 10^{-7}$ and from $\\mu_M$ we expect each number to be accurate to around 7 digits. For double precision, $d = 52$ and numbers can be trusted to 16 digits."
   ]
  },
  {
   "cell_type": "markdown",
   "id": "a0899597",
   "metadata": {},
   "source": [
    "## Conditioning of a problem; condition number"
   ]
  },
  {
   "cell_type": "markdown",
   "id": "0750d71f",
   "metadata": {},
   "source": [
    "Conditioning is entirely the property of a problem; it tells you how accurate an anwer you can _expect_ from \"ideal\" (i.e. backwards-stable) algorithms solving it.\n",
    "\n",
    "\n",
    "\"Problem\" in this context is a map:\n",
    "\n",
    "$$ f: X \\to Y, $$\n",
    "- $X$ is the set of input parameters/space _defining_ the problem (all the information you need to solve it),\n",
    "- $Y$ is the space of solutions.\n",
    "\n",
    "$f$ could for example be \n",
    "- a function that doubles its input, $f(x) = 2x$, or\n",
    "- a function that returns the roots of a polynomial defined via a vector $\\mathbb{x}$ of its coefficients, or\n",
    "- a mapping between an initial value problem (say, an ODE and its initial conditions) and its set of solutions.\n",
    "\n",
    "The conditioning of $f$ is the _sensitivity_ of its output $f(x)$ to perturbations in its input $x$. If the perturbation in the input $x$ is $\\delta x$, then the change in the output is $\\delta f := f(x + \\delta x) - f(x)$.\n",
    "\n",
    "The **absolute condition number** is defined as\n",
    "$$ \\tilde{\\kappa} = \\tilde{\\kappa}(x) := \\lim_{\\delta \\to 0} \\sup_{|\\delta x| \\leq \\delta} \\frac{|| \\delta f|| }{|| \\delta x||} := \\sup_{\\delta x} \\frac{|| \\delta f|| }{|| \\delta x||}, $$\n",
    "where the $|| \\cdot ||$ denotes the 2-norm.\n",
    "\n",
    "If $x \\in \\mathbb{C}^n$, $f \\in \\mathbb{C}^m$ are $n$- and $m$-dimensional vectors, respectively (meaning: there are multiple inputs and/or outputs), then we can measure how a perturbation in any of the inputs affects any of the outputs via the **Jacobian** matrix $J_{ij} \\in \\mathbb{C}^{m \\times n}$,\n",
    "$$ \\frac{\\partial f_i}{\\partial x_j} = J_{ij}(x). $$\n",
    "\n",
    "**relative condition number**\n",
    "\n",
    "condition number of basic operations, matvec, solving linear sys\n",
    "\n",
    "catastrophic/subtractive cancellation\n"
   ]
  },
  {
   "cell_type": "markdown",
   "id": "6ff3b9cf",
   "metadata": {},
   "source": [
    "## Stability\n",
    "\n",
    "Stability is entirely the property of the algorithm used to solve a problem. \n",
    "\n",
    "Stability vs backwards stability"
   ]
  },
  {
   "cell_type": "code",
   "execution_count": null,
   "id": "2d3958b1",
   "metadata": {},
   "outputs": [],
   "source": []
  }
 ],
 "metadata": {
  "kernelspec": {
   "display_name": "Python 3 (ipykernel)",
   "language": "python",
   "name": "python3"
  },
  "language_info": {
   "codemirror_mode": {
    "name": "ipython",
    "version": 3
   },
   "file_extension": ".py",
   "mimetype": "text/x-python",
   "name": "python",
   "nbconvert_exporter": "python",
   "pygments_lexer": "ipython3",
   "version": "3.10.8"
  }
 },
 "nbformat": 4,
 "nbformat_minor": 5
}
